{
 "cells": [
  {
   "cell_type": "code",
   "execution_count": 1,
   "metadata": {},
   "outputs": [],
   "source": [
    "import pandas as pd\n",
    "import pickle\n",
    "\n",
    "from datetime import datetime\n",
    "import datetime as dt"
   ]
  },
  {
   "cell_type": "code",
   "execution_count": 2,
   "metadata": {},
   "outputs": [],
   "source": [
    "# load the documents df\n",
    "\n",
    "with open('04_df_cn.pickle', 'rb') as handle:\n",
    "    df = pickle.load(handle)"
   ]
  },
  {
   "cell_type": "code",
   "execution_count": 3,
   "metadata": {},
   "outputs": [
    {
     "data": {
      "text/plain": [
       "(85105, 11)"
      ]
     },
     "execution_count": 3,
     "metadata": {},
     "output_type": "execute_result"
    }
   ],
   "source": [
    "# tweet number\n",
    "\n",
    "df.shape"
   ]
  },
  {
   "cell_type": "code",
   "execution_count": 4,
   "metadata": {},
   "outputs": [
    {
     "data": {
      "text/html": [
       "<div>\n",
       "<style scoped>\n",
       "    .dataframe tbody tr th:only-of-type {\n",
       "        vertical-align: middle;\n",
       "    }\n",
       "\n",
       "    .dataframe tbody tr th {\n",
       "        vertical-align: top;\n",
       "    }\n",
       "\n",
       "    .dataframe thead th {\n",
       "        text-align: right;\n",
       "    }\n",
       "</style>\n",
       "<table border=\"1\" class=\"dataframe\">\n",
       "  <thead>\n",
       "    <tr style=\"text-align: right;\">\n",
       "      <th></th>\n",
       "      <th>username</th>\n",
       "      <th>date</th>\n",
       "      <th>retweets</th>\n",
       "      <th>favorites</th>\n",
       "      <th>text</th>\n",
       "      <th>mentions</th>\n",
       "      <th>hashtags</th>\n",
       "      <th>id</th>\n",
       "      <th>permalink</th>\n",
       "      <th>topic</th>\n",
       "      <th>topic_name</th>\n",
       "    </tr>\n",
       "  </thead>\n",
       "  <tbody>\n",
       "    <tr>\n",
       "      <th>0</th>\n",
       "      <td>Taorunner</td>\n",
       "      <td>2018-03-30 19:57</td>\n",
       "      <td>0</td>\n",
       "      <td>0</td>\n",
       "      <td>中文英语中美关系贸易战中国朋友们：</td>\n",
       "      <td>NaN</td>\n",
       "      <td># # # #</td>\n",
       "      <td>979870287620603904</td>\n",
       "      <td>https://twitter.com/Taorunner/status/979870287...</td>\n",
       "      <td>0</td>\n",
       "      <td>Economy &amp; Issue</td>\n",
       "    </tr>\n",
       "    <tr>\n",
       "      <th>1</th>\n",
       "      <td>backchinanews</td>\n",
       "      <td>2018-03-30 19:46</td>\n",
       "      <td>0</td>\n",
       "      <td>0</td>\n",
       "      <td>习金会后中美贸易战暂停？佛罗里达中国学生被遣返原因竟是丑闻年前乔布斯就警告过了针锋</td>\n",
       "      <td>NaN</td>\n",
       "      <td>NaN</td>\n",
       "      <td>979867397095153664</td>\n",
       "      <td>https://twitter.com/backchinanews/status/97986...</td>\n",
       "      <td>0</td>\n",
       "      <td>Economy &amp; Issue</td>\n",
       "    </tr>\n",
       "    <tr>\n",
       "      <th>2</th>\n",
       "      <td>VOAChinese</td>\n",
       "      <td>2018-03-30 19:43</td>\n",
       "      <td>3</td>\n",
       "      <td>2</td>\n",
       "      <td>中国公司不惧贸易战继续在美募股</td>\n",
       "      <td>NaN</td>\n",
       "      <td>NaN</td>\n",
       "      <td>979866624839770112</td>\n",
       "      <td>https://twitter.com/VOAChinese/status/97986662...</td>\n",
       "      <td>0</td>\n",
       "      <td>Economy &amp; Issue</td>\n",
       "    </tr>\n",
       "    <tr>\n",
       "      <th>3</th>\n",
       "      <td>cnfocus</td>\n",
       "      <td>2018-03-30 19:33</td>\n",
       "      <td>0</td>\n",
       "      <td>0</td>\n",
       "      <td>习金会后，中美“贸易战”突然偃旗息鼓习金会后，中美贸易战的态势出现缓和迹象。美国贸易代表莱特...</td>\n",
       "      <td>NaN</td>\n",
       "      <td>NaN</td>\n",
       "      <td>979864282027368453</td>\n",
       "      <td>https://twitter.com/cnfocus/status/97986428202...</td>\n",
       "      <td>2</td>\n",
       "      <td>Tariff</td>\n",
       "    </tr>\n",
       "    <tr>\n",
       "      <th>4</th>\n",
       "      <td>VOAJiangHe</td>\n",
       "      <td>2018-03-30 19:26</td>\n",
       "      <td>1</td>\n",
       "      <td>1</td>\n",
       "      <td>墨西哥生产的牛油果约占全球总产量的三分之一，它是现代贸易的奇迹之一。牛油果贸易不仅让美国人可...</td>\n",
       "      <td>NaN</td>\n",
       "      <td>NaN</td>\n",
       "      <td>979862384776015872</td>\n",
       "      <td>https://twitter.com/VOAJiangHe/status/97986238...</td>\n",
       "      <td>0</td>\n",
       "      <td>Economy &amp; Issue</td>\n",
       "    </tr>\n",
       "  </tbody>\n",
       "</table>\n",
       "</div>"
      ],
      "text/plain": [
       "        username              date  retweets  favorites  \\\n",
       "0      Taorunner  2018-03-30 19:57         0          0   \n",
       "1  backchinanews  2018-03-30 19:46         0          0   \n",
       "2     VOAChinese  2018-03-30 19:43         3          2   \n",
       "3        cnfocus  2018-03-30 19:33         0          0   \n",
       "4     VOAJiangHe  2018-03-30 19:26         1          1   \n",
       "\n",
       "                                                text mentions hashtags  \\\n",
       "0                                  中文英语中美关系贸易战中国朋友们：      NaN  # # # #   \n",
       "1          习金会后中美贸易战暂停？佛罗里达中国学生被遣返原因竟是丑闻年前乔布斯就警告过了针锋      NaN      NaN   \n",
       "2                                    中国公司不惧贸易战继续在美募股      NaN      NaN   \n",
       "3  习金会后，中美“贸易战”突然偃旗息鼓习金会后，中美贸易战的态势出现缓和迹象。美国贸易代表莱特...      NaN      NaN   \n",
       "4  墨西哥生产的牛油果约占全球总产量的三分之一，它是现代贸易的奇迹之一。牛油果贸易不仅让美国人可...      NaN      NaN   \n",
       "\n",
       "                   id                                          permalink  \\\n",
       "0  979870287620603904  https://twitter.com/Taorunner/status/979870287...   \n",
       "1  979867397095153664  https://twitter.com/backchinanews/status/97986...   \n",
       "2  979866624839770112  https://twitter.com/VOAChinese/status/97986662...   \n",
       "3  979864282027368453  https://twitter.com/cnfocus/status/97986428202...   \n",
       "4  979862384776015872  https://twitter.com/VOAJiangHe/status/97986238...   \n",
       "\n",
       "   topic       topic_name  \n",
       "0      0  Economy & Issue  \n",
       "1      0  Economy & Issue  \n",
       "2      0  Economy & Issue  \n",
       "3      2           Tariff  \n",
       "4      0  Economy & Issue  "
      ]
     },
     "execution_count": 4,
     "metadata": {},
     "output_type": "execute_result"
    }
   ],
   "source": [
    "df.head()"
   ]
  },
  {
   "cell_type": "code",
   "execution_count": 5,
   "metadata": {},
   "outputs": [
    {
     "data": {
      "text/plain": [
       "15999"
      ]
     },
     "execution_count": 5,
     "metadata": {},
     "output_type": "execute_result"
    }
   ],
   "source": [
    "# unique users\n",
    "\n",
    "df['username'].nunique()"
   ]
  },
  {
   "cell_type": "code",
   "execution_count": 6,
   "metadata": {},
   "outputs": [],
   "source": [
    "# generate csv for tableau visualization\n",
    "\n",
    "df['datetime'] = df['date'].apply(lambda x: datetime.strptime(x, \"%Y-%m-%d %H:%M\"))\n",
    "df.to_csv('05_viz_cn.csv')"
   ]
  },
  {
   "cell_type": "code",
   "execution_count": null,
   "metadata": {},
   "outputs": [],
   "source": []
  }
 ],
 "metadata": {
  "kernelspec": {
   "display_name": "Python 3",
   "language": "python",
   "name": "python3"
  },
  "language_info": {
   "codemirror_mode": {
    "name": "ipython",
    "version": 3
   },
   "file_extension": ".py",
   "mimetype": "text/x-python",
   "name": "python",
   "nbconvert_exporter": "python",
   "pygments_lexer": "ipython3",
   "version": "3.6.5"
  }
 },
 "nbformat": 4,
 "nbformat_minor": 2
}
