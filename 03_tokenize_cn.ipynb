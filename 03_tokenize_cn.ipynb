{
 "cells": [
  {
   "cell_type": "code",
   "execution_count": 1,
   "metadata": {},
   "outputs": [
    {
     "name": "stdout",
     "output_type": "stream",
     "text": [
      "Model loaded succeed\n"
     ]
    }
   ],
   "source": [
    "# import\n",
    "import pandas as pd\n",
    "import numpy as np\n",
    "import re\n",
    "import string\n",
    "import pickle\n",
    "from time import time\n",
    "from sklearn.utils import shuffle\n",
    "import thulac\n",
    "thu = thulac.thulac(filt=True)\n",
    "from sklearn.feature_extraction.text import CountVectorizer, TfidfVectorizer\n",
    "from sklearn.decomposition import NMF, LatentDirichletAllocation"
   ]
  },
  {
   "cell_type": "code",
   "execution_count": 2,
   "metadata": {},
   "outputs": [],
   "source": [
    "# functions\n",
    "def tokenize_cn_join(text):\n",
    "    # tokenize\n",
    "    cut = thu.cut(text)\n",
    "    #useful_tags = ['n','np','ns','ni','nz','v','j']\n",
    "    tokens = [i[0] for i in cut]\n",
    "    # remove stop words\n",
    "    #stop_words = ['贸易战','是','要','有','能','来','贸易','贸易','中国','美国','战','么','特朗普','川普']\n",
    "    #tokens_stop = [y for y in cut if y not in stop_words]\n",
    "\n",
    "    return \" \".join(tokens)"
   ]
  },
  {
   "cell_type": "code",
   "execution_count": 3,
   "metadata": {},
   "outputs": [
    {
     "name": "stdout",
     "output_type": "stream",
     "text": [
      "Loading dataset...\n",
      "done in 0.219s.\n"
     ]
    }
   ],
   "source": [
    "# read table into dataframe\n",
    "print(\"Loading dataset...\")\n",
    "t0 = time()\n",
    "with open('02_documents_cn.pickle', 'rb') as handle:\n",
    "    trade_war_documents_cn = pickle.load(handle)\n",
    "print(\"done in %0.3fs.\" % (time() - t0))"
   ]
  },
  {
   "cell_type": "code",
   "execution_count": 4,
   "metadata": {},
   "outputs": [
    {
     "name": "stdout",
     "output_type": "stream",
     "text": [
      "Tokenizing and joining...\n",
      "done in 6528.568s.\n"
     ]
    }
   ],
   "source": [
    "# tokenize\n",
    "print(\"Tokenizing and joining...\")\n",
    "t0 = time()\n",
    "trade_war_documents_cn = trade_war_documents_cn.apply(tokenize_cn_join)\n",
    "print(\"done in %0.3fs.\" % (time() - t0))"
   ]
  },
  {
   "cell_type": "code",
   "execution_count": 5,
   "metadata": {},
   "outputs": [
    {
     "name": "stdout",
     "output_type": "stream",
     "text": [
      "Pickling\n",
      "done in 0.850s.\n"
     ]
    }
   ],
   "source": [
    "# pickling\n",
    "print(\"Pickling\")\n",
    "t0 = time()\n",
    "with open('03_tokentext_cn.pickle', 'wb') as handle:\n",
    "    pickle.dump(trade_war_documents_cn, handle, protocol=pickle.HIGHEST_PROTOCOL)\n",
    "print(\"done in %0.3fs.\" % (time() - t0))"
   ]
  },
  {
   "cell_type": "code",
   "execution_count": null,
   "metadata": {},
   "outputs": [],
   "source": []
  }
 ],
 "metadata": {
  "kernelspec": {
   "display_name": "Python 3",
   "language": "python",
   "name": "python3"
  },
  "language_info": {
   "codemirror_mode": {
    "name": "ipython",
    "version": 3
   },
   "file_extension": ".py",
   "mimetype": "text/x-python",
   "name": "python",
   "nbconvert_exporter": "python",
   "pygments_lexer": "ipython3",
   "version": "3.6.5"
  }
 },
 "nbformat": 4,
 "nbformat_minor": 2
}
