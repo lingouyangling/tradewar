{
 "cells": [
  {
   "cell_type": "code",
   "execution_count": 1,
   "metadata": {},
   "outputs": [],
   "source": [
    "import pandas as pd\n",
    "import pickle\n",
    "\n",
    "from datetime import datetime\n",
    "import datetime as dt"
   ]
  },
  {
   "cell_type": "code",
   "execution_count": 2,
   "metadata": {},
   "outputs": [],
   "source": [
    "# load the documents df\n",
    "\n",
    "with open('04_df_en.pickle', 'rb') as handle:\n",
    "    df = pickle.load(handle)"
   ]
  },
  {
   "cell_type": "code",
   "execution_count": 3,
   "metadata": {},
   "outputs": [
    {
     "data": {
      "text/plain": [
       "(913738, 11)"
      ]
     },
     "execution_count": 3,
     "metadata": {},
     "output_type": "execute_result"
    }
   ],
   "source": [
    "# tweet number\n",
    "\n",
    "df.shape"
   ]
  },
  {
   "cell_type": "code",
   "execution_count": 4,
   "metadata": {},
   "outputs": [
    {
     "data": {
      "text/html": [
       "<div>\n",
       "<style scoped>\n",
       "    .dataframe tbody tr th:only-of-type {\n",
       "        vertical-align: middle;\n",
       "    }\n",
       "\n",
       "    .dataframe tbody tr th {\n",
       "        vertical-align: top;\n",
       "    }\n",
       "\n",
       "    .dataframe thead th {\n",
       "        text-align: right;\n",
       "    }\n",
       "</style>\n",
       "<table border=\"1\" class=\"dataframe\">\n",
       "  <thead>\n",
       "    <tr style=\"text-align: right;\">\n",
       "      <th></th>\n",
       "      <th>username</th>\n",
       "      <th>date</th>\n",
       "      <th>retweets</th>\n",
       "      <th>favorites</th>\n",
       "      <th>text</th>\n",
       "      <th>mentions</th>\n",
       "      <th>hashtags</th>\n",
       "      <th>id</th>\n",
       "      <th>permalink</th>\n",
       "      <th>topic</th>\n",
       "      <th>topic_name</th>\n",
       "    </tr>\n",
       "  </thead>\n",
       "  <tbody>\n",
       "    <tr>\n",
       "      <th>0</th>\n",
       "      <td>WineTasteAddict</td>\n",
       "      <td>2018-03-30 19:57</td>\n",
       "      <td>0</td>\n",
       "      <td>0</td>\n",
       "      <td>trumps trade war with china could hurt califor...</td>\n",
       "      <td>NaN</td>\n",
       "      <td>NaN</td>\n",
       "      <td>979870258382110721</td>\n",
       "      <td>https://twitter.com/WineTasteAddict/status/979...</td>\n",
       "      <td>0</td>\n",
       "      <td>China &amp; Fight</td>\n",
       "    </tr>\n",
       "    <tr>\n",
       "      <th>1</th>\n",
       "      <td>WineTasteAddict</td>\n",
       "      <td>2018-03-30 19:57</td>\n",
       "      <td>0</td>\n",
       "      <td>0</td>\n",
       "      <td>trumps trade war with china could hurt califor...</td>\n",
       "      <td>NaN</td>\n",
       "      <td>NaN</td>\n",
       "      <td>979870182263918592</td>\n",
       "      <td>https://twitter.com/WineTasteAddict/status/979...</td>\n",
       "      <td>0</td>\n",
       "      <td>China &amp; Fight</td>\n",
       "    </tr>\n",
       "    <tr>\n",
       "      <th>2</th>\n",
       "      <td>chrischandler</td>\n",
       "      <td>2018-03-30 19:51</td>\n",
       "      <td>0</td>\n",
       "      <td>0</td>\n",
       "      <td>how to win a trade war</td>\n",
       "      <td>NaN</td>\n",
       "      <td>NaN</td>\n",
       "      <td>979868626240012288</td>\n",
       "      <td>https://twitter.com/chrischandler/status/97986...</td>\n",
       "      <td>1</td>\n",
       "      <td>Tariff &amp; EU, Canada</td>\n",
       "    </tr>\n",
       "    <tr>\n",
       "      <th>3</th>\n",
       "      <td>BcabaNetwork</td>\n",
       "      <td>2018-03-30 19:47</td>\n",
       "      <td>0</td>\n",
       "      <td>0</td>\n",
       "      <td>asias small open economies may suffer in ameri...</td>\n",
       "      <td>NaN</td>\n",
       "      <td>NaN</td>\n",
       "      <td>979867757767426048</td>\n",
       "      <td>https://twitter.com/BcabaNetwork/status/979867...</td>\n",
       "      <td>3</td>\n",
       "      <td>Farmer &amp; Economy &amp; Job</td>\n",
       "    </tr>\n",
       "    <tr>\n",
       "      <th>4</th>\n",
       "      <td>CharmCity2052</td>\n",
       "      <td>2018-03-30 19:44</td>\n",
       "      <td>0</td>\n",
       "      <td>0</td>\n",
       "      <td>china owns more of our debt than any country i...</td>\n",
       "      <td>NaN</td>\n",
       "      <td>NaN</td>\n",
       "      <td>979867078860689410</td>\n",
       "      <td>https://twitter.com/CharmCity2052/status/97986...</td>\n",
       "      <td>0</td>\n",
       "      <td>China &amp; Fight</td>\n",
       "    </tr>\n",
       "  </tbody>\n",
       "</table>\n",
       "</div>"
      ],
      "text/plain": [
       "          username              date  retweets  favorites  \\\n",
       "0  WineTasteAddict  2018-03-30 19:57         0          0   \n",
       "1  WineTasteAddict  2018-03-30 19:57         0          0   \n",
       "2    chrischandler  2018-03-30 19:51         0          0   \n",
       "3     BcabaNetwork  2018-03-30 19:47         0          0   \n",
       "4    CharmCity2052  2018-03-30 19:44         0          0   \n",
       "\n",
       "                                                text mentions hashtags  \\\n",
       "0  trumps trade war with china could hurt califor...      NaN      NaN   \n",
       "1  trumps trade war with china could hurt califor...      NaN      NaN   \n",
       "2                            how to win a trade war       NaN      NaN   \n",
       "3  asias small open economies may suffer in ameri...      NaN      NaN   \n",
       "4  china owns more of our debt than any country i...      NaN      NaN   \n",
       "\n",
       "                   id                                          permalink  \\\n",
       "0  979870258382110721  https://twitter.com/WineTasteAddict/status/979...   \n",
       "1  979870182263918592  https://twitter.com/WineTasteAddict/status/979...   \n",
       "2  979868626240012288  https://twitter.com/chrischandler/status/97986...   \n",
       "3  979867757767426048  https://twitter.com/BcabaNetwork/status/979867...   \n",
       "4  979867078860689410  https://twitter.com/CharmCity2052/status/97986...   \n",
       "\n",
       "   topic              topic_name  \n",
       "0      0           China & Fight  \n",
       "1      0           China & Fight  \n",
       "2      1     Tariff & EU, Canada  \n",
       "3      3  Farmer & Economy & Job  \n",
       "4      0           China & Fight  "
      ]
     },
     "execution_count": 4,
     "metadata": {},
     "output_type": "execute_result"
    }
   ],
   "source": [
    "df.head()"
   ]
  },
  {
   "cell_type": "code",
   "execution_count": 5,
   "metadata": {},
   "outputs": [
    {
     "data": {
      "text/plain": [
       "263658"
      ]
     },
     "execution_count": 5,
     "metadata": {},
     "output_type": "execute_result"
    }
   ],
   "source": [
    "# unique users\n",
    "\n",
    "df['username'].nunique()"
   ]
  },
  {
   "cell_type": "code",
   "execution_count": 6,
   "metadata": {},
   "outputs": [],
   "source": [
    "# generate csv for tableau visualization\n",
    "\n",
    "df['datetime'] = df['date'].apply(lambda x: datetime.strptime(x, \"%Y-%m-%d %H:%M\"))\n",
    "df.to_csv('05_viz_en.csv')"
   ]
  },
  {
   "cell_type": "code",
   "execution_count": null,
   "metadata": {},
   "outputs": [],
   "source": []
  }
 ],
 "metadata": {
  "kernelspec": {
   "display_name": "Python 3",
   "language": "python",
   "name": "python3"
  },
  "language_info": {
   "codemirror_mode": {
    "name": "ipython",
    "version": 3
   },
   "file_extension": ".py",
   "mimetype": "text/x-python",
   "name": "python",
   "nbconvert_exporter": "python",
   "pygments_lexer": "ipython3",
   "version": "3.6.5"
  }
 },
 "nbformat": 4,
 "nbformat_minor": 2
}
