{
 "cells": [
  {
   "cell_type": "code",
   "execution_count": 1,
   "metadata": {},
   "outputs": [],
   "source": [
    "# import\n",
    "import pandas as pd\n",
    "import numpy as np\n",
    "import re\n",
    "import string\n",
    "import pickle\n",
    "from time import time"
   ]
  },
  {
   "cell_type": "code",
   "execution_count": 2,
   "metadata": {},
   "outputs": [],
   "source": [
    "# functions\n",
    "def extract_cn(text):\n",
    "    pat = u'[\\u4e00-\\u9fa5\\u3002\\uff1b\\uff0c\\uff1a\\u201c\\u201d\\uff08\\uff09\\u3001\\uff1f\\u300a\\u300b]+'\n",
    "    return ''.join(re.findall(pat, text))\n"
   ]
  },
  {
   "cell_type": "code",
   "execution_count": 3,
   "metadata": {},
   "outputs": [
    {
     "name": "stdout",
     "output_type": "stream",
     "text": [
      "Loading...\n",
      "done in 0.798s.\n"
     ]
    }
   ],
   "source": [
    "# read table into dataframe\n",
    "print(\"Loading...\")\n",
    "t0 = time()\n",
    "path = '/Users/ouyangling/ds/metis/tradewar/01_data/chinese/'\n",
    "df1 = pd.read_csv(path + 'corpus_cn_1.csv',sep = ';',encoding='utf8')\n",
    "df2 = pd.read_csv(path + 'corpus_cn_2.csv',sep = ';',encoding='utf8')\n",
    "df3 = pd.read_csv(path + 'corpus_cn_3.csv',sep = ';',encoding='utf8')\n",
    "\n",
    "print(\"done in %0.3fs.\" % (time() - t0))\n"
   ]
  },
  {
   "cell_type": "code",
   "execution_count": 4,
   "metadata": {},
   "outputs": [],
   "source": [
    "# concat multiple dfs\n",
    "df = pd.concat([df1, df2, df3])"
   ]
  },
  {
   "cell_type": "code",
   "execution_count": 5,
   "metadata": {},
   "outputs": [
    {
     "name": "stdout",
     "output_type": "stream",
     "text": [
      "Cleaning data\n",
      "done in 0.792s.\n",
      "Pickling\n",
      "done in 0.123s.\n"
     ]
    }
   ],
   "source": [
    "# cleaning\n",
    "print(\"Cleaning data\")\n",
    "t0 = time()\n",
    "df.drop_duplicates(inplace = True)\n",
    "df = df.drop('geo', axis = 1)\n",
    "df['text'] = df['text'].apply(extract_cn)\n",
    "trade_war_documents_cn = df['text'].copy()\n",
    "print(\"done in %0.3fs.\" % (time() - t0))\n",
    "\n",
    "# pickle data\n",
    "print(\"Pickling\")\n",
    "t0 = time()\n",
    "with open('02_documents_cn.pickle', 'wb') as handle:\n",
    "    pickle.dump(trade_war_documents_cn, handle, protocol=pickle.HIGHEST_PROTOCOL)\n",
    "print(\"done in %0.3fs.\" % (time() - t0))\n"
   ]
  },
  {
   "cell_type": "code",
   "execution_count": 6,
   "metadata": {},
   "outputs": [],
   "source": [
    "# pickle df\n",
    "with open('02_df_cn.pickle', 'wb') as handle:\n",
    "    pickle.dump(df, handle, protocol=pickle.HIGHEST_PROTOCOL)"
   ]
  },
  {
   "cell_type": "code",
   "execution_count": null,
   "metadata": {},
   "outputs": [],
   "source": []
  }
 ],
 "metadata": {
  "kernelspec": {
   "display_name": "Python 3",
   "language": "python",
   "name": "python3"
  },
  "language_info": {
   "codemirror_mode": {
    "name": "ipython",
    "version": 3
   },
   "file_extension": ".py",
   "mimetype": "text/x-python",
   "name": "python",
   "nbconvert_exporter": "python",
   "pygments_lexer": "ipython3",
   "version": "3.6.5"
  }
 },
 "nbformat": 4,
 "nbformat_minor": 2
}
