{
 "cells": [
  {
   "cell_type": "code",
   "execution_count": 1,
   "metadata": {},
   "outputs": [],
   "source": [
    "# import\n",
    "import pandas as pd\n",
    "import numpy as np\n",
    "import re\n",
    "import string\n",
    "import pickle\n",
    "from time import time"
   ]
  },
  {
   "cell_type": "code",
   "execution_count": 2,
   "metadata": {},
   "outputs": [],
   "source": [
    "# functions\n",
    "def remove_urls_mention_hashtag(s):\n",
    "    # remove urls in string\n",
    "    s1 = re.sub(r'(https?:\\/\\/)(\\s)*(www\\.)?(\\s)*(\\w+\\.)*([\\w\\-\\s]+\\/)*([\\w\\-]+)\\/?(\\??\\w+\\s*=\\w+\\&?)*', '', s)\n",
    "    s2 = re.sub(r'pic.twitter\\S*', '', s1)\n",
    "    s3 = re.sub(r'\\@[a-zA-Z1-9]+', '', s2)\n",
    "    #s3 = s2.replace('@', ' ')\n",
    "    s4 = s3.replace('#', ' ')\n",
    "    s5 = s4.replace('-', ' ')\n",
    "    return s5\n",
    "\n",
    "\n",
    "def remove_punc_digi_lower(text):\n",
    "    # remove punctuation\n",
    "    remove_punct = str.maketrans('', '', string.punctuation+'…'+'’'+'‘'+'“'+'”'+'–'+'—')\n",
    "    text = text.translate(remove_punct)\n",
    "\n",
    "    # remove digits and convert to lower case\n",
    "    remove_digits = str.maketrans('', '', string.digits)\n",
    "    text = text.lower().translate(remove_digits)\n",
    "    \n",
    "    return text\n",
    "\n",
    "media_names = ['new york times','wall street journal','business insider',\n",
    "               'washington post','chicago tribune','bloomberg','cnn',\n",
    "               'cnn news','new york post','los angeles times','newsday']\n",
    "def remove_media(text):\n",
    "    for i in media_names:\n",
    "        text = text.replace(i,' ')\n",
    "    return text\n"
   ]
  },
  {
   "cell_type": "code",
   "execution_count": 3,
   "metadata": {},
   "outputs": [
    {
     "name": "stdout",
     "output_type": "stream",
     "text": [
      "Loading...\n",
      "done in 6.998s.\n"
     ]
    }
   ],
   "source": [
    "# read table into dataframe\n",
    "print(\"Loading...\")\n",
    "t0 = time()\n",
    "path = '/Users/ouyangling/ds/metis/tradewar/01_data/english/'\n",
    "df1 = pd.read_csv(path + 'corpus_en_1.csv',sep = ';')\n",
    "df2 = pd.read_csv(path + 'corpus_en_2.csv',sep = ';')\n",
    "df3 = pd.read_csv(path + 'corpus_en_3.csv',sep = ';')\n",
    "df4 = pd.read_csv(path + 'corpus_en_4.csv',sep = ';')\n",
    "\n",
    "print(\"done in %0.3fs.\" % (time() - t0))\n"
   ]
  },
  {
   "cell_type": "code",
   "execution_count": 4,
   "metadata": {},
   "outputs": [],
   "source": [
    "# concat multiple dfs\n",
    "df = pd.concat([df1, df2, df3, df4])"
   ]
  },
  {
   "cell_type": "code",
   "execution_count": 5,
   "metadata": {},
   "outputs": [],
   "source": [
    "# pickle df\n",
    "with open('02_df_en.pickle', 'wb') as handle:\n",
    "    pickle.dump(df, handle, protocol=pickle.HIGHEST_PROTOCOL)"
   ]
  },
  {
   "cell_type": "code",
   "execution_count": 5,
   "metadata": {},
   "outputs": [
    {
     "name": "stdout",
     "output_type": "stream",
     "text": [
      "Cleaning data\n",
      "done in 24.535s.\n",
      "Pickling\n",
      "done in 0.587s.\n"
     ]
    }
   ],
   "source": [
    "# cleaning\n",
    "print(\"Cleaning data\")\n",
    "t0 = time()\n",
    "df.drop_duplicates(inplace = True)\n",
    "df = df.drop('geo', axis = 1)\n",
    "df['text'] = df['text'].apply(str.strip)\n",
    "df['text'] = df['text'].apply(remove_urls_mention_hashtag)\n",
    "df['text'] = df['text'].apply(remove_punc_digi_lower)\n",
    "df['text'] = df['text'].apply(remove_media)\n",
    "\n",
    "trade_war_documents = df['text'].copy()\n",
    "print(\"done in %0.3fs.\" % (time() - t0))\n",
    "\n",
    "# pickle data\n",
    "print(\"Pickling\")\n",
    "t0 = time()\n",
    "with open('02_documents_en.pickle', 'wb') as handle:\n",
    "    pickle.dump(trade_war_documents, handle, protocol=pickle.HIGHEST_PROTOCOL)\n",
    "print(\"done in %0.3fs.\" % (time() - t0))"
   ]
  },
  {
   "cell_type": "code",
   "execution_count": null,
   "metadata": {},
   "outputs": [],
   "source": []
  }
 ],
 "metadata": {
  "kernelspec": {
   "display_name": "Python 3",
   "language": "python",
   "name": "python3"
  },
  "language_info": {
   "codemirror_mode": {
    "name": "ipython",
    "version": 3
   },
   "file_extension": ".py",
   "mimetype": "text/x-python",
   "name": "python",
   "nbconvert_exporter": "python",
   "pygments_lexer": "ipython3",
   "version": "3.6.5"
  }
 },
 "nbformat": 4,
 "nbformat_minor": 2
}
