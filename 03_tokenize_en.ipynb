{
 "cells": [
  {
   "cell_type": "code",
   "execution_count": 1,
   "metadata": {},
   "outputs": [],
   "source": [
    "# import\n",
    "import pandas as pd\n",
    "import numpy as np\n",
    "import re\n",
    "import string\n",
    "import pickle\n",
    "import nltk\n",
    "from time import time\n",
    "from sklearn.utils import shuffle\n",
    "from nltk.tokenize import word_tokenize\n",
    "from nltk.corpus import stopwords\n",
    "from nltk.util import ngrams\n",
    "from nltk.stem import SnowballStemmer, WordNetLemmatizer\n",
    "from sklearn.model_selection import ParameterGrid\n",
    "from sklearn.feature_extraction.text import CountVectorizer, TfidfVectorizer\n",
    "from sklearn.decomposition import NMF, LatentDirichletAllocation"
   ]
  },
  {
   "cell_type": "code",
   "execution_count": 2,
   "metadata": {},
   "outputs": [],
   "source": [
    "def custom_tokenizer(text):\n",
    "    # tokenize\n",
    "    tokens = word_tokenize(text)\n",
    "\n",
    "    # remove useless words by tags\n",
    "    tokens_tag = nltk.pos_tag(tokens)\n",
    "    noun_tags = ['NN','NNS','NNP','NNPS']\n",
    "    verb_tags = ['VB','VBD','VBG','VBN','VBP','VBZ']\n",
    "    useless_tags = ['CC','CD','DT','EX','IN','MD',\n",
    "                'PDT','POS','PRP$',\n",
    "                'TO','UH','WDT','WP','WP$','WRB']\n",
    "    useful_tags = ['NN','NNS','NNP','NNPS','VB','VBD','VBG','VBN','VBP','VBZ']\n",
    "    #tokens_filt = [j for i, j in enumerate(tokens) if tokens_tag[i][1] not in useless_tags]\n",
    "    tokens_filt = [j for i,j in enumerate(tokens) if tokens_tag[i][1] in noun_tags+verb_tags]\n",
    "\n",
    "    # remove stop words\n",
    "    depun_gen_stop = [i.replace(\"'\",\"\") for i in stopwords.words('english')]\n",
    "    general_stopwords = list(set(stopwords.words('english') + depun_gen_stop))\n",
    "\n",
    "    web_stopwords = ['html','via','youtube','rt','twitter','tweet','tweets']\n",
    "    domain_stopwords = ['donald','trade','war','tradewar',\n",
    "                        'realdonaldtrump','trump','trumps','dtj','djt']\n",
    "    media_stopwords = ['nyt','reuters','video','news','bloomberg','wsj','cnn','medium',\n",
    "                       'ft','businessinsider','nytimes']\n",
    "    gabage_stopwords = ['g','doesnt','e','he','youre','dont','thats','could',\n",
    "                        'really','would','may','much','many','everything','any',\n",
    "                        'get','everyone']\n",
    "\n",
    "    stop_words = general_stopwords + web_stopwords + domain_stopwords + media_stopwords + gabage_stopwords\n",
    "\n",
    "    tokens_stop = [i for i in tokens_filt if i not in stop_words]\n",
    "\n",
    "    # lemmatize\n",
    "    wnl = WordNetLemmatizer()\n",
    "    tokens_lemma = [wnl.lemmatize(y) for y in tokens_stop]\n",
    "\n",
    "    return \" \".join(tokens_lemma)"
   ]
  },
  {
   "cell_type": "code",
   "execution_count": 3,
   "metadata": {},
   "outputs": [
    {
     "name": "stdout",
     "output_type": "stream",
     "text": [
      "Loading dataset...\n",
      "done in 0.597s.\n"
     ]
    }
   ],
   "source": [
    "# read table into dataframe\n",
    "print(\"Loading dataset...\")\n",
    "t0 = time()\n",
    "with open('02_documents_en.pickle', 'rb') as handle:\n",
    "    trade_war_documents = pickle.load(handle)\n",
    "print(\"done in %0.3fs.\" % (time() - t0))"
   ]
  },
  {
   "cell_type": "code",
   "execution_count": 4,
   "metadata": {},
   "outputs": [
    {
     "name": "stdout",
     "output_type": "stream",
     "text": [
      "Tokenizing and joining...\n",
      "done in 1909.197s.\n"
     ]
    }
   ],
   "source": [
    "# tokenize\n",
    "print(\"Tokenizing and joining...\")\n",
    "t0 = time()\n",
    "trade_war_documents = trade_war_documents.apply(custom_tokenizer)\n",
    "print(\"done in %0.3fs.\" % (time() - t0))"
   ]
  },
  {
   "cell_type": "code",
   "execution_count": 5,
   "metadata": {},
   "outputs": [
    {
     "name": "stdout",
     "output_type": "stream",
     "text": [
      "Pickling\n",
      "done in 1.638s.\n"
     ]
    }
   ],
   "source": [
    "# pickling\n",
    "print(\"Pickling\")\n",
    "t0 = time()\n",
    "with open('03_tokentext_en.pickle', 'wb') as handle:\n",
    "    pickle.dump(trade_war_documents, handle, protocol=pickle.HIGHEST_PROTOCOL)\n",
    "print(\"done in %0.3fs.\" % (time() - t0))"
   ]
  },
  {
   "cell_type": "code",
   "execution_count": null,
   "metadata": {},
   "outputs": [],
   "source": []
  }
 ],
 "metadata": {
  "kernelspec": {
   "display_name": "Python 3",
   "language": "python",
   "name": "python3"
  },
  "language_info": {
   "codemirror_mode": {
    "name": "ipython",
    "version": 3
   },
   "file_extension": ".py",
   "mimetype": "text/x-python",
   "name": "python",
   "nbconvert_exporter": "python",
   "pygments_lexer": "ipython3",
   "version": "3.6.5"
  }
 },
 "nbformat": 4,
 "nbformat_minor": 2
}
